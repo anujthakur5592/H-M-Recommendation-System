{
  "cells": [
    {
      "cell_type": "code",
      "execution_count": null,
      "metadata": {
        "colab": {
          "base_uri": "https://localhost:8080/"
        },
        "id": "h_Ws-IfctWUn",
        "outputId": "b7f75a7b-cc59-4ffb-ddce-ac7dcee6a5d9"
      },
      "outputs": [
        {
          "output_type": "stream",
          "name": "stdout",
          "text": [
            "Looking in indexes: https://pypi.org/simple, https://us-python.pkg.dev/colab-wheels/public/simple/\n",
            "Requirement already satisfied: pyspark in /usr/local/lib/python3.10/dist-packages (3.4.0)\n",
            "Requirement already satisfied: py4j==0.10.9.7 in /usr/local/lib/python3.10/dist-packages (from pyspark) (0.10.9.7)\n"
          ]
        }
      ],
      "source": [
        "pip install pyspark"
      ]
    },
    {
      "cell_type": "code",
      "execution_count": null,
      "metadata": {
        "id": "_rDEvJoStKIr"
      },
      "outputs": [],
      "source": [
        "import pyspark\n",
        "from pyspark.sql import SparkSession\n",
        "from pyspark.sql import SQLContext\n",
        "from pyspark.sql import functions as F\n",
        "import seaborn as sns\n",
        "from matplotlib import pyplot as plt\n",
        "from pyspark.sql import Window\n",
        "from pyspark.sql.types import StructType,StructField, StringType, IntegerType, ArrayType, DoubleType, BooleanType\n",
        "\n",
        "sc = SparkSession.builder.appName(\"Recommendations\").config(\"spark.sql.files.maxPartitionBytes\", 5000000).getOrCreate()\n",
        "spark = SparkSession(sc)"
      ]
    },
    {
      "cell_type": "code",
      "execution_count": null,
      "metadata": {
        "id": "8k6DVqgKtTOa"
      },
      "outputs": [],
      "source": [
        "articles = spark.read.option(\"header\",True) \\\n",
        "                .csv(\"/content/drive/MyDrive/articles.csv\")\n",
        "customers = spark.read.option(\"header\",True) \\\n",
        "                .csv(\"/content/drive/MyDrive/customers.csv\")\n",
        "transactions = spark.read.option(\"header\",True) \\\n",
        "                .csv(\"/content/drive/MyDrive/transactions.csv\")"
      ]
    },
    {
      "cell_type": "code",
      "execution_count": null,
      "metadata": {
        "colab": {
          "base_uri": "https://localhost:8080/"
        },
        "id": "FNkMfi5ht2P4",
        "outputId": "e1060b5f-ea9d-42e2-cc38-0baa0039ce0e"
      },
      "outputs": [
        {
          "output_type": "stream",
          "name": "stdout",
          "text": [
            "+----------+---------------+-----------------------+-----------------+-------------------------+-------------+--------------+----------+----------------+\n",
            "|article_id|product_type_no|graphical_appearance_no|colour_group_code|perceived_colour_value_id|department_no|index_group_no|section_no|garment_group_no|\n",
            "+----------+---------------+-----------------------+-----------------+-------------------------+-------------+--------------+----------+----------------+\n",
            "| 257430026|            253|                1010001|               73|                        4|         7922|             4|        79|            1017|\n",
            "| 265071034|            255|                1010016|               81|                        3|         8768|             4|        72|            1002|\n",
            "| 291338033|            304|                1010016|               10|                        3|         7921|             4|        79|            1021|\n",
            "| 302334005|             67|                1010016|                9|                        4|         7389|             3|        25|            1019|\n",
            "| 304778007|            302|                1010009|               43|                        4|         3610|             1|        62|            1021|\n",
            "| 309864014|            272|                1010023|               73|                        2|         8956|             4|        47|            1016|\n",
            "| 318035017|             83|                1010019|                9|                        4|         3419|             1|        66|            1019|\n",
            "| 318066016|             75|                1010016|               51|                        1|         3945|             2|        52|            1019|\n",
            "| 377436007|             78|                1010014|               52|                        7|         3419|             1|        66|            1019|\n",
            "| 379780040|            255|                1010005|               10|                        3|         1643|             2|        51|            1002|\n",
            "+----------+---------------+-----------------------+-----------------+-------------------------+-------------+--------------+----------+----------------+\n",
            "only showing top 10 rows\n",
            "\n"
          ]
        }
      ],
      "source": [
        "articles = articles\\\n",
        "    .selectExpr('cast (article_id as int) article_id', 'cast (product_type_no as int) product_type_no', 'cast (graphical_appearance_no as int) graphical_appearance_no',\n",
        "                'cast (colour_group_code as int) colour_group_code ','cast (perceived_colour_value_id as int) perceived_colour_value_id',\n",
        "                'cast (department_no as int) department_no',  'cast (index_group_no as int) index_group_no',\n",
        "                'cast (section_no as int) section_no', 'cast (garment_group_no as int) garment_group_no')\\\n",
        "    .dropDuplicates()\n",
        "\n",
        "articles.show(10)"
      ]
    },
    {
      "cell_type": "code",
      "execution_count": null,
      "metadata": {
        "id": "sGiDrudut_nX"
      },
      "outputs": [],
      "source": [
        "customers = customers\\\n",
        "    .fillna({'age': '25'})\\\n",
        "    .drop('FN', 'Active', 'club_member_status', 'fashion_news_frequency', 'postal_code')"
      ]
    },
    {
      "cell_type": "code",
      "execution_count": null,
      "metadata": {
        "colab": {
          "base_uri": "https://localhost:8080/"
        },
        "id": "EjZhn-1MuCmj",
        "outputId": "411bf887-2608-4ad9-c287-85b19df0ea72"
      },
      "outputs": [
        {
          "output_type": "stream",
          "name": "stdout",
          "text": [
            "10\n"
          ]
        }
      ],
      "source": [
        "start_date = '2020-07-22'\n",
        "\n",
        "min_week = 1\n",
        "max_week = 9\n",
        "application_week = max_week + 1\n",
        "#week: changed to tuesday\n",
        "print(application_week)"
      ]
    },
    {
      "cell_type": "code",
      "execution_count": null,
      "metadata": {
        "colab": {
          "base_uri": "https://localhost:8080/"
        },
        "id": "yXzyg-DNuEoV",
        "outputId": "45e301d0-78e0-4330-96f8-539bfbe4bffa"
      },
      "outputs": [
        {
          "output_type": "stream",
          "name": "stdout",
          "text": [
            "+--------------------+----------+----+\n",
            "|         customer_id|article_id|week|\n",
            "+--------------------+----------+----+\n",
            "|0001076e215991bad...| 843373003|   1|\n",
            "|0006bb0fad5c49341...| 802979001|   1|\n",
            "|0006bb0fad5c49341...| 717370001|   1|\n",
            "|000c886e014a122bd...| 554598047|   1|\n",
            "|0010bb1c4a9c39adb...| 816166004|   1|\n",
            "|001bf9b4bb1cbd8e2...| 828067003|   1|\n",
            "|001c1f8d70782f450...| 701085019|   1|\n",
            "|0028c4674e52ba2e3...| 809752005|   1|\n",
            "|00357b192b81fc832...| 906822002|   1|\n",
            "|003a8444fce07c006...| 852940004|   1|\n",
            "+--------------------+----------+----+\n",
            "only showing top 10 rows\n",
            "\n"
          ]
        }
      ],
      "source": [
        "transactions = transactions\\\n",
        "    .withColumn('article_id', transactions['article_id'].cast(IntegerType()))\\\n",
        "    .filter(F.col('t_dat') >= start_date)\\\n",
        "    .withColumn('week', F.when((F.col('t_dat') >= '2020-09-16') & (F.col('t_dat') <= '2020-09-22'), 9)\n",
        "                         .when((F.col('t_dat') >= '2020-09-09') & (F.col('t_dat') <= '2020-09-15'), 8)\n",
        "                         .when((F.col('t_dat') >= '2020-09-02') & (F.col('t_dat') <= '2020-09-08'), 7)\n",
        "                         .when((F.col('t_dat') >= '2020-08-26') & (F.col('t_dat') <= '2020-09-01'), 6)\n",
        "                         .when((F.col('t_dat') >= '2020-08-19') & (F.col('t_dat') <= '2020-08-25'), 5)\n",
        "                         .when((F.col('t_dat') >= '2020-08-12') & (F.col('t_dat') <= '2020-08-18'), 4)\n",
        "                         .when((F.col('t_dat') >= '2020-08-05') & (F.col('t_dat') <= '2020-08-11'), 3)\n",
        "                         .when((F.col('t_dat') >= '2020-07-29') & (F.col('t_dat') <= '2020-08-04'), 2)\n",
        "                         .when((F.col('t_dat') >= '2020-07-22') & (F.col('t_dat') <= '2020-07-28'), 1)\n",
        "                        .otherwise(999))\\\n",
        "    .drop('t_dat', 'price', 'sales_channel_id')\\\n",
        "    .orderBy(['week', 'customer_id'], ascending=True)\n",
        "\n",
        "transactions.show(10)\n",
        "# code to generate unique transaction id:\n",
        "# .withColumn('t_id', F.concat_ws('_',transactions.t_dat, transactions.customer_id))\\"
      ]
    },
    {
      "cell_type": "code",
      "execution_count": null,
      "metadata": {
        "colab": {
          "base_uri": "https://localhost:8080/"
        },
        "id": "ly97tXn2uG4_",
        "outputId": "13c22dd5-3bcc-4fee-eb0c-d73eda8be83d"
      },
      "outputs": [
        {
          "output_type": "stream",
          "name": "stdout",
          "text": [
            "+----+-----+\n",
            "|week|count|\n",
            "+----+-----+\n",
            "|   1|15012|\n",
            "|   2|15826|\n",
            "|   3|14470|\n",
            "|   4|13356|\n",
            "|   5|12934|\n",
            "|   6|14088|\n",
            "|   7|13193|\n",
            "|   8|12717|\n",
            "|   9|11936|\n",
            "+----+-----+\n",
            "\n"
          ]
        },
        {
          "output_type": "execute_result",
          "data": {
            "text/plain": [
              "DataFrame[week: int, count: bigint]"
            ]
          },
          "metadata": {},
          "execution_count": 56
        }
      ],
      "source": [
        "\n",
        "\n",
        "transactions_per_week = transactions\\\n",
        "    .groupBy('week').count().orderBy('week', ascending=True)\\\n",
        "\n",
        "transactions_per_week.show(10)\n",
        "transactions_per_week.unpersist()\n"
      ]
    },
    {
      "cell_type": "code",
      "execution_count": null,
      "metadata": {
        "colab": {
          "base_uri": "https://localhost:8080/"
        },
        "id": "_iykwAaRuN61",
        "outputId": "f4bad56b-2591-4626-d1cd-760f9e24b264"
      },
      "outputs": [
        {
          "output_type": "stream",
          "name": "stdout",
          "text": [
            "customer_id in current perimeter : 95278\n"
          ]
        },
        {
          "output_type": "execute_result",
          "data": {
            "text/plain": [
              "DataFrame[count(DISTINCT customer_id): bigint]"
            ]
          },
          "metadata": {},
          "execution_count": 57
        }
      ],
      "source": [
        "from pyspark.sql.functions import countDistinct\n",
        "\n",
        "unique_customers = transactions\\\n",
        "    .select(countDistinct('customer_id'))\n",
        "\n",
        "print(\"customer_id in current perimeter : \"+ str(unique_customers.collect()[0][0]))\n",
        "unique_customers.unpersist()"
      ]
    },
    {
      "cell_type": "code",
      "execution_count": null,
      "metadata": {
        "colab": {
          "base_uri": "https://localhost:8080/",
          "height": 564
        },
        "id": "Z4m9m1-FuWPG",
        "outputId": "5725c849-57b2-4b69-b841-10158d93a607"
      },
      "outputs": [
        {
          "output_type": "display_data",
          "data": {
            "text/plain": [
              "<Figure size 1000x600 with 1 Axes>"
            ],
            "image/png": "[encoded data removed]"
          },
          "metadata": {}
        }
      ],
      "source": [
        "# number of orders for each customer each week\n",
        "# shift week to +1 to make it a feature for next week\n",
        "\n",
        "import matplotlib.pyplot as plt\n",
        "\n",
        "# Convert the DataFrame to a Pandas DataFrame\n",
        "customers_orders_lw_pd = customers_orders_lw.toPandas()\n",
        "\n",
        "# Create a bar graph\n",
        "fig, ax = plt.subplots(figsize=(10,6))\n",
        "ax.bar(customers_orders_lw_pd['week'], customers_orders_lw_pd['lw_orders_count'])\n",
        "ax.set_xlabel('Week')\n",
        "ax.set_ylabel('Orders Count')\n",
        "ax.set_title('Customer Orders Count by Week')\n",
        "plt.show()\n"
      ]
    },
    {
      "cell_type": "code",
      "execution_count": null,
      "metadata": {
        "colab": {
          "base_uri": "https://localhost:8080/",
          "height": 564
        },
        "id": "x88JBu1fuRHW",
        "outputId": "fe289fa3-0418-47b5-a9c2-99061fa58920"
      },
      "outputs": [
        {
          "output_type": "display_data",
          "data": {
            "text/plain": [
              "<Figure size 1000x600 with 1 Axes>"
            ],
            "image/png": "[encoded data removed]"
          },
          "metadata": {}
        }
      ],
      "source": [
        "#rank articles for each week\n",
        "\n",
        "import matplotlib.pyplot as plt\n",
        "\n",
        "# Convert the DataFrame to a Pandas DataFrame\n",
        "articles_rank_pd = articles_rank.toPandas()\n",
        "articles_top12_pd = articles_top12.toPandas()\n",
        "\n",
        "# Create a line graph for the top 12 articles for each week\n",
        "fig, ax = plt.subplots(figsize=(10,6))\n",
        "for article_id in articles_top12_pd['article_id'].unique():\n",
        "    data = articles_top12_pd[articles_top12_pd['article_id'] == article_id]\n",
        "    ax.plot(data['week'], data['rank'], label=article_id)\n",
        "ax.set_xlabel('Week')\n",
        "ax.set_ylabel('Rank')\n",
        "ax.set_title('Top 12 Articles by Week')\n",
        "\n",
        "plt.show()\n"
      ]
    },
    {
      "cell_type": "code",
      "execution_count": null,
      "metadata": {
        "colab": {
          "base_uri": "https://localhost:8080/"
        },
        "id": "hpaDS6HYu_E8",
        "outputId": "fe8dd9fb-80bb-4358-f141-f69fa35581d2"
      },
      "outputs": [
        {
          "output_type": "stream",
          "name": "stdout",
          "text": [
            "+--------------------+----------+----+\n",
            "|         customer_id|article_id|week|\n",
            "+--------------------+----------+----+\n",
            "|e9e62e8120bc9f31c...| 811471001|   5|\n",
            "|0feafc06f28e4d5cd...| 728156025|   6|\n",
            "|f85d6bb1cbaae37e4...| 624486061|   7|\n",
            "|969f97202aca11383...| 778064003|   8|\n",
            "|7b55754359419c00e...| 904625001|   8|\n",
            "|70c30221fd88bfec3...| 696587001|   9|\n",
            "|4fd20fa4ccc486b89...| 875145001|   6|\n",
            "|bc25b42d4a81d1c60...| 875329004|   5|\n",
            "|6525bab79e9f51eab...| 803468002|   2|\n",
            "|3cb083bef451a4387...| 864040001|   6|\n",
            "+--------------------+----------+----+\n",
            "only showing top 10 rows\n",
            "\n"
          ]
        }
      ],
      "source": [
        "transactions = transactions\\\n",
        ".dropDuplicates()\\\n",
        "\n",
        "transactions.show(10)"
      ]
    },
    {
      "cell_type": "code",
      "execution_count": null,
      "metadata": {
        "colab": {
          "base_uri": "https://localhost:8080/"
        },
        "id": "8LTVNm8ivhOl",
        "outputId": "973ca1bb-9856-42a2-efe8-baed909d444b"
      },
      "outputs": [
        {
          "output_type": "stream",
          "name": "stdout",
          "text": [
            "+--------------------+----+-------+\n",
            "|         customer_id|week|week_rn|\n",
            "+--------------------+----+-------+\n",
            "|00009d946eec3ea54...|   4|      1|\n",
            "|0001076e215991bad...|   1|      1|\n",
            "|0001b0127d3e5ff8d...|   2|      1|\n",
            "|0001d44dbe7f6c4b3...|   3|      1|\n",
            "|0002cca4cc68601e8...|   7|      1|\n",
            "|00039306476aaf41a...|   9|      1|\n",
            "|0003e867a930d0d68...|   7|      1|\n",
            "|0003e867a930d0d68...|   9|      2|\n",
            "|0004852bef85b2af9...|   2|      1|\n",
            "|000493dd9fc463df1...|   9|      1|\n",
            "+--------------------+----+-------+\n",
            "only showing top 10 rows\n",
            "\n",
            "+--------------------+----+-------+--------+----------+\n",
            "|         customer_id|week|week_rn|new_week|article_id|\n",
            "+--------------------+----+-------+--------+----------+\n",
            "|03222b4b198d82d8b...|   3|      2|       7| 928845001|\n",
            "|03222b4b198d82d8b...|   3|      2|       7| 863798001|\n",
            "|096e30392510e967c...|   1|      2|       9| 706016004|\n",
            "|165bd612b277cbfa7...|   5|      2|       7| 832473003|\n",
            "|353085ee4430e5d1d...|   2|      2|       4| 852512005|\n",
            "|3f49561f36a6091ec...|   2|      2|       5| 739590032|\n",
            "|3f49561f36a6091ec...|   2|      2|       5| 802979001|\n",
            "|4b4a16089910715df...|   3|      3|       6| 699598004|\n",
            "|51ecb9ce86164d04e...|   2|      2|       5| 696533007|\n",
            "|583e49315c641cc80...|   2|      2|       3| 879796004|\n",
            "+--------------------+----+-------+--------+----------+\n",
            "only showing top 10 rows\n",
            "\n",
            "+--------------------+----------+----+\n",
            "|         customer_id|article_id|week|\n",
            "+--------------------+----------+----+\n",
            "|0003e867a930d0d68...| 905914002|   9|\n",
            "|000e2691ade6addc9...| 829882004|   6|\n",
            "|001c1f8d70782f450...| 701085019|   4|\n",
            "|001d4fed8a933922b...| 559601010|   7|\n",
            "|002bf05ef896248d9...| 885468003|   6|\n",
            "|00386204792883fda...| 733097001|   4|\n",
            "|003ca8034fe32b9ba...| 887770002|   6|\n",
            "|003ca8034fe32b9ba...| 885710002|   6|\n",
            "|003ca8034fe32b9ba...| 874546001|   6|\n",
            "|00497498ca3ada0d7...| 893429001|   8|\n",
            "|004d932f7a27ac316...| 783346032|   9|\n",
            "|004d932f7a27ac316...| 752814005|   9|\n",
            "|0055d6440e9ccf177...| 640664005|   7|\n",
            "|0058eeb21c1ead68d...| 714790021|   5|\n",
            "|0059a72dc89bd3a2b...| 557994014|   7|\n",
            "|0059a72dc89bd3a2b...| 802979001|   7|\n",
            "|005d818153d6573cb...| 816423004|   3|\n",
            "|0074c5948b6c96e75...| 448509001|   4|\n",
            "|00754012108569f9c...| 915523001|   6|\n",
            "|00758087d42362242...| 906635003|   3|\n",
            "+--------------------+----------+----+\n",
            "only showing top 20 rows\n",
            "\n",
            "+----+-----+\n",
            "|week|count|\n",
            "+----+-----+\n",
            "|   2|  707|\n",
            "|   3| 1120|\n",
            "|   4| 1374|\n",
            "|   5| 1765|\n",
            "|   6| 2078|\n",
            "|   7| 2366|\n",
            "|   8| 2550|\n",
            "|   9| 2599|\n",
            "+----+-----+\n",
            "\n"
          ]
        },
        {
          "output_type": "execute_result",
          "data": {
            "text/plain": [
              "DataFrame[customer_id: string, new_week: int, week_rn: int]"
            ]
          },
          "metadata": {},
          "execution_count": 76
        }
      ],
      "source": [
        "# the goal of this transfrom is to shift last bought basket to next week in which the customer bought something\n",
        "# this is done to create negative observations in \"next week\" (from a copy of last purchased basked)\n",
        "# because the customer could've skipped some weeks, I need to put a number to each week partition and shift it +1\n",
        "\n",
        "# add a reference number for customers who bought something in a certain week (somewhat of a transaction identifier)\n",
        "rn_transactions = transactions\\\n",
        "    .select('customer_id', 'week')\\\n",
        "    .dropDuplicates()\n",
        "\n",
        "w_transactions = Window.partitionBy('customer_id').orderBy(rn_transactions.week.asc())\n",
        "\n",
        "# enumerate rows by week partition\n",
        "rn_transactions = rn_transactions\\\n",
        "    .withColumn('week_rn', F.row_number().over(w_transactions))\\\n",
        "    .select('customer_id', 'week', 'week_rn')\\\n",
        "    .orderBy(['customer_id', 'week'], ascending = True)\n",
        "\n",
        "rn_transactions.show(10)\n",
        "\n",
        "rn_transactions0 = rn_transactions.drop('article_id')\\\n",
        "    .withColumnRenamed('week', 'new_week')\\\n",
        "    .dropDuplicates()\n",
        "\n",
        "# shift rn to next row\n",
        "# keep week info from rn_transactions0 and join on shifted week_rn\n",
        "\n",
        "last_purchase = rn_transactions\\\n",
        "    .withColumn('week_rn', F.col('week_rn')+1)\\\n",
        "    .join(rn_transactions0, ['customer_id', 'week_rn'], 'inner')\\\n",
        "    .join(transactions, ['customer_id', 'week'], 'left')\\\n",
        "\n",
        "last_purchase.show(10)\n",
        "\n",
        "last_purchase = last_purchase\\\n",
        "    .drop('week')\\\n",
        "    .withColumnRenamed('new_week', 'week')\\\n",
        "    .orderBy(['customer_id', 'week'], ascending = True)\\\n",
        "    .select('customer_id', 'article_id', 'week')\n",
        "\n",
        "last_purchase.show(20)\n",
        "\n",
        "lp_per_week = last_purchase\\\n",
        "    .groupBy('week').count().orderBy('week', ascending=True)\\\n",
        "\n",
        "lp_per_week.show(10)\n",
        "lp_per_week.unpersist()\n",
        "rn_transactions0.unpersist()"
      ]
    },
    {
      "cell_type": "code",
      "execution_count": null,
      "metadata": {
        "id": "N32zz0fZvrgr"
      },
      "outputs": [],
      "source": [
        "transactions_pos = transactions\\\n",
        "    .select('customer_id', 'article_id', 'week')\\\n",
        "    .withColumn('y', F.lit(1))"
      ]
    },
    {
      "cell_type": "code",
      "execution_count": null,
      "metadata": {
        "colab": {
          "base_uri": "https://localhost:8080/"
        },
        "id": "QtMQsVCYwmis",
        "outputId": "09474bc0-ead5-443f-c9bf-0d77999d6176"
      },
      "outputs": [
        {
          "output_type": "stream",
          "name": "stdout",
          "text": [
            "+--------------------+----------+----+---+\n",
            "|         customer_id|article_id|week|  y|\n",
            "+--------------------+----------+----+---+\n",
            "|003ca8034fe32b9ba...| 874546001|   6|  0|\n",
            "|004d932f7a27ac316...| 783346032|   9|  0|\n",
            "|005d818153d6573cb...| 816423004|   3|  0|\n",
            "|00758087d42362242...| 906635003|   3|  0|\n",
            "|00896a51471298fc6...| 883730002|   9|  0|\n",
            "|00944aac87d67eb28...| 851400001|   5|  0|\n",
            "|009a85913aa6f503e...| 296366006|   6|  0|\n",
            "|00a917a768bc4ae18...| 685816038|   7|  0|\n",
            "|00ad1651b21f28b4d...| 808246005|   9|  0|\n",
            "|00c14b7f150c32bad...| 507909030|   6|  0|\n",
            "+--------------------+----------+----+---+\n",
            "only showing top 10 rows\n",
            "\n"
          ]
        }
      ],
      "source": [
        "last_purchase = last_purchase\\\n",
        "    .join(transactions_pos, ['customer_id', 'article_id', 'week'], 'left')\\\n",
        "    .fillna({'y': 0})\\\n",
        "    .filter(F.col('y').isin(0))\\\n",
        "    .select('customer_id', 'article_id', 'week', 'y')\n",
        "\n",
        "last_purchase.show(10)"
      ]
    },
    {
      "cell_type": "code",
      "execution_count": null,
      "metadata": {
        "colab": {
          "base_uri": "https://localhost:8080/"
        },
        "id": "ilE5ouhl9v4J",
        "outputId": "da61aa3a-c824-44db-ce5f-f5d45186a976"
      },
      "outputs": [
        {
          "output_type": "stream",
          "name": "stdout",
          "text": [
            "+--------------------+----------+----+---+\n",
            "|         customer_id|article_id|week|  y|\n",
            "+--------------------+----------+----+---+\n",
            "|00009d946eec3ea54...| 599580038|   4|  0|\n",
            "|00009d946eec3ea54...| 599580072|   4|  0|\n",
            "|00009d946eec3ea54...| 823505001|   4|  0|\n",
            "|00009d946eec3ea54...| 778064028|   4|  0|\n",
            "|00009d946eec3ea54...| 351484039|   4|  0|\n",
            "|00009d946eec3ea54...| 866731001|   4|  0|\n",
            "|00009d946eec3ea54...| 610776002|   4|  0|\n",
            "|00009d946eec3ea54...| 559616013|   4|  0|\n",
            "|00009d946eec3ea54...| 806225002|   4|  0|\n",
            "|00009d946eec3ea54...| 865594003|   4|  0|\n",
            "+--------------------+----------+----+---+\n",
            "only showing top 10 rows\n",
            "\n"
          ]
        },
        {
          "output_type": "execute_result",
          "data": {
            "text/plain": [
              "DataFrame[customer_id: string, article_id: int, week: int, y: int]"
            ]
          },
          "metadata": {},
          "execution_count": 79
        }
      ],
      "source": [
        "# create negative observations based on top 12 items for each week\n",
        "\n",
        "articles_top12_pw = articles_top12\\\n",
        "    .withColumn('week', F.col('week')+1)\n",
        "\n",
        "listona = transactions\\\n",
        "    .select('customer_id', 'week')\\\n",
        "    .dropDuplicates()\\\n",
        "    .join(articles_top12_pw, ['week'], 'left')\\\n",
        "    .join(transactions_pos, ['customer_id', 'article_id', 'week'], 'left')\\\n",
        "    .fillna({'y': 0})\\\n",
        "    .filter(F.col('y').isin(0))\\\n",
        "    .select('customer_id', 'article_id', 'week', 'y')\\\n",
        "    .orderBy('customer_id', 'week')\\\n",
        "\n",
        "listona.show(10)\n",
        "articles_top12_pw.unpersist()\n",
        "transactions_pos.unpersist()"
      ]
    },
    {
      "cell_type": "code",
      "execution_count": null,
      "metadata": {
        "colab": {
          "base_uri": "https://localhost:8080/",
          "height": 564
        },
        "id": "5EzNq-1k-b29",
        "outputId": "23614be5-e88d-4ea8-cacb-43d355ca107c"
      },
      "outputs": [
        {
          "output_type": "display_data",
          "data": {
            "text/plain": [
              "<Figure size 1000x600 with 1 Axes>"
            ],
            "image/png": "[encoded data removed]"
          },
          "metadata": {}
        }
      ],
      "source": [
        "# exclude from train the most remote week of observation since I don't generate a strategy for it\n",
        "# join all features\n",
        "\n",
        "import matplotlib.pyplot as plt\n",
        "\n",
        "# Convert the DataFrame to a Pandas DataFrame\n",
        "train_pd = train.toPandas()\n",
        "\n",
        "# Group by week and calculate the total orders count\n",
        "orders_by_week = train_pd.groupby('week')['lw_orders_count'].sum()\n",
        "\n",
        "# Create a line graph\n",
        "fig, ax = plt.subplots(figsize=(10,6))\n",
        "ax.plot(orders_by_week.index, orders_by_week.values, label='Orders Count')\n",
        "ax.set_xlabel('Week')\n",
        "ax.set_ylabel('Orders Count')\n",
        "ax.set_title('Trend of Customer Orders Count over Weeks')\n",
        "plt.show()\n"
      ]
    },
    {
      "cell_type": "code",
      "execution_count": null,
      "metadata": {
        "id": "9s7iCjzlBefI"
      },
      "outputs": [],
      "source": [
        "application = spark.read.option(\"header\",True) \\\n",
        "                .csv(\"/content/drive/MyDrive/sample_submission.csv\")"
      ]
    },
    {
      "cell_type": "code",
      "execution_count": null,
      "metadata": {
        "id": "GpANh-q3_PDW"
      },
      "outputs": [],
      "source": [
        "# top 12 sold from last week\n",
        "articles_top12_app = articles_top12\\\n",
        "    .filter(F.col('week').isin(max_week))\\\n",
        "    .drop('week')\\\n",
        "    .withColumn('week', F.lit(application_week))\\\n",
        "    .dropDuplicates()"
      ]
    },
    {
      "cell_type": "code",
      "execution_count": null,
      "metadata": {
        "colab": {
          "base_uri": "https://localhost:8080/"
        },
        "id": "HLGk0nUwAey2",
        "outputId": "fa277921-b01b-4dfe-bcca-dbb9eb4ce478"
      },
      "outputs": [
        {
          "output_type": "stream",
          "name": "stdout",
          "text": [
            "[762846027, 929275001, 751471001, 923758001, 909370001, 924243001, 573085028, 448509014, 915529003, 924243002, 866731001, 889550002]\n"
          ]
        }
      ],
      "source": [
        "# top 12 items last week list\n",
        "\n",
        "top_12 = articles_top12_app.toPandas()\n",
        "top_12_lw = top_12['article_id'].tolist()\n",
        "\n",
        "print(top_12_lw)"
      ]
    },
    {
      "cell_type": "code",
      "execution_count": null,
      "metadata": {
        "id": "WvXCXIAHAg23"
      },
      "outputs": [],
      "source": [
        "# articles rank feature\n",
        "last_week_rank = articles_rank\\\n",
        "    .filter(F.col('week').isin(max_week))\\\n",
        "    .drop('week')\\\n",
        "    .withColumn('week', F.lit(application_week))\\\n",
        "    .dropDuplicates()"
      ]
    },
    {
      "cell_type": "code",
      "execution_count": null,
      "metadata": {
        "id": "g7aQstgzBIv7"
      },
      "outputs": [],
      "source": [
        "#last purchased basket\n",
        "\n",
        "w_lp = Window.partitionBy('customer_id').orderBy(transactions.week.desc())\n",
        "\n",
        "last_purchased_app = transactions\\\n",
        "    .select('customer_id', 'week')\\\n",
        "    .dropDuplicates()\\\n",
        "    .withColumn('rn', F.row_number().over(w_lp))\\\n",
        "    .filter(F.col('rn').isin(1))\\\n",
        "    .drop('rn')\\\n",
        "    .join(transactions, ['customer_id', 'week'], 'left')"
      ]
    },
    {
      "cell_type": "code",
      "execution_count": null,
      "metadata": {
        "colab": {
          "base_uri": "https://localhost:8080/"
        },
        "id": "K7DKQDclBLXd",
        "outputId": "e9f8af5d-6692-4f5d-ae34-4cf9d9e49cc5"
      },
      "outputs": [
        {
          "output_type": "stream",
          "name": "stdout",
          "text": [
            "+--------------------+----------+---+----+---------------+-----------------------+-----------------+-------------------------+-------------+--------------+----------+----------------+---------------+\n",
            "|         customer_id|article_id|age|rank|product_type_no|graphical_appearance_no|colour_group_code|perceived_colour_value_id|department_no|index_group_no|section_no|garment_group_no|lw_orders_count|\n",
            "+--------------------+----------+---+----+---------------+-----------------------+-----------------+-------------------------+-------------+--------------+----------+----------------+---------------+\n",
            "|000064249685c1155...| 924243001| 25|   1|            252|                1010016|               13|                        1|         1626|             1|        15|            1003|              0|\n",
            "|000064249685c1155...| 751471001| 25|   2|            272|                1010016|                9|                        4|         1722|             1|        15|            1009|              0|\n",
            "|000064249685c1155...| 924243002| 25|   3|            252|                1010016|                9|                        4|         1626|             1|        15|            1003|              0|\n",
            "|000064249685c1155...| 866731001| 25|   4|            273|                1010016|                9|                        4|         8310|            26|         5|            1005|              0|\n",
            "|000064249685c1155...| 915529003| 25|   5|            252|                1010016|                9|                        4|         1626|             1|        15|            1003|              0|\n",
            "|000064249685c1155...| 929275001| 25|   6|            272|                1010018|                9|                        4|         1722|             1|        15|            1009|              0|\n",
            "|000064249685c1155...| 448509014| 25|   7|            272|                1010016|               72|                        3|         1747|             2|        53|            1009|              0|\n",
            "|000064249685c1155...| 573085028| 25|   8|            272|                1010016|                9|                        4|         1722|             1|        15|            1009|              0|\n",
            "|000064249685c1155...| 923758001| 25|   9|             -1|                1010016|               10|                        3|         1522|             1|        15|            1010|              0|\n",
            "|000064249685c1155...| 889550002| 25|  10|            262|                1010016|                9|                        4|         1244|             2|        53|            1007|              0|\n",
            "+--------------------+----------+---+----+---------------+-----------------------+-----------------+-------------------------+-------------+--------------+----------+----------------+---------------+\n",
            "only showing top 10 rows\n",
            "\n"
          ]
        }
      ],
      "source": [
        "application = application\\\n",
        "    .select('customer_id')\\\n",
        "    .join(customers, 'customer_id', 'left')\\\n",
        "    .dropDuplicates()\\\n",
        "    .withColumn('week', F.lit(application_week))\\\n",
        "    .join(articles_top12_app, 'week', 'left')\\\n",
        "    .select('customer_id', 'article_id', 'week')\\\n",
        "    .unionByName(last_purchased_app)\\\n",
        "    .dropDuplicates()\\\n",
        "    .join(customers, 'customer_id', 'left')\\\n",
        "    .join(last_week_rank, 'article_id', 'left')\\\n",
        "    .join(articles, 'article_id', 'left')\\\n",
        "    .join(customers_orders_lw, ['customer_id', 'week'], 'left')\\\n",
        "    .fillna({'rank': 999})\\\n",
        "    .fillna({'lw_orders_count': 0})\\\n",
        "    .drop('week')\\\n",
        "    .dropDuplicates()\n",
        "\n",
        "application.show(10)"
      ]
    },
    {
      "cell_type": "code",
      "execution_count": null,
      "metadata": {
        "colab": {
          "base_uri": "https://localhost:8080/"
        },
        "id": "1opASUnhBVSk",
        "outputId": "182c07cb-20a1-4400-b181-2df29fa8c2d0"
      },
      "outputs": [
        {
          "output_type": "execute_result",
          "data": {
            "text/plain": [
              "350"
            ]
          },
          "metadata": {},
          "execution_count": 172
        }
      ],
      "source": [
        "import gc\n",
        "last_week_rank.unpersist()\n",
        "articles_top12_app.unpersist()\n",
        "last_purchased_app.unpersist()\n",
        "\n",
        "transactions.unpersist()\n",
        "customers.unpersist()\n",
        "articles.unpersist()\n",
        "\n",
        "gc.collect()"
      ]
    },
    {
      "cell_type": "code",
      "execution_count": null,
      "metadata": {
        "colab": {
          "base_uri": "https://localhost:8080/",
          "height": 356
        },
        "id": "b_BAtw3BCEr9",
        "outputId": "8ebc62cc-562d-406d-fc73-5d3247dbc7fb"
      },
      "outputs": [
        {
          "output_type": "error",
          "ename": "AttributeError",
          "evalue": "ignored",
          "traceback": [
            "\u001b[0;31m---------------------------------------------------------------------------\u001b[0m",
            "\u001b[0;31mAttributeError\u001b[0m                            Traceback (most recent call last)",
            "\u001b[0;32m<ipython-input-174-c7e627872d56>\u001b[0m in \u001b[0;36m<cell line: 4>\u001b[0;34m()\u001b[0m\n\u001b[1;32m      2\u001b[0m \u001b[0;32mimport\u001b[0m \u001b[0mgc\u001b[0m\u001b[0;34m\u001b[0m\u001b[0;34m\u001b[0m\u001b[0m\n\u001b[1;32m      3\u001b[0m \u001b[0;34m\u001b[0m\u001b[0m\n\u001b[0;32m----> 4\u001b[0;31m \u001b[0mtrain\u001b[0m\u001b[0;34m.\u001b[0m\u001b[0mrepartition\u001b[0m\u001b[0;34m(\u001b[0m\u001b[0;36m1\u001b[0m\u001b[0;34m)\u001b[0m\u001b[0;34m.\u001b[0m\u001b[0mwrite\u001b[0m\u001b[0;34m.\u001b[0m\u001b[0mmode\u001b[0m\u001b[0;34m(\u001b[0m\u001b[0;34m'overwrite'\u001b[0m\u001b[0;34m)\u001b[0m\u001b[0;34m.\u001b[0m\u001b[0mcsv\u001b[0m\u001b[0;34m(\u001b[0m\u001b[0;34m'/content/drive/MyDrive/train_df'\u001b[0m\u001b[0;34m,\u001b[0m \u001b[0mheader\u001b[0m\u001b[0;34m=\u001b[0m\u001b[0;34m'true'\u001b[0m\u001b[0;34m)\u001b[0m\u001b[0;34m\u001b[0m\u001b[0;34m\u001b[0m\u001b[0m\n\u001b[0m\u001b[1;32m      5\u001b[0m \u001b[0;34m\u001b[0m\u001b[0m\n\u001b[1;32m      6\u001b[0m \u001b[0mtrain\u001b[0m\u001b[0;34m.\u001b[0m\u001b[0munpersist\u001b[0m\u001b[0;34m(\u001b[0m\u001b[0;34m)\u001b[0m\u001b[0;34m\u001b[0m\u001b[0;34m\u001b[0m\u001b[0m\n",
            "\u001b[0;32m/usr/local/lib/python3.10/dist-packages/pandas/core/generic.py\u001b[0m in \u001b[0;36m__getattr__\u001b[0;34m(self, name)\u001b[0m\n\u001b[1;32m   5900\u001b[0m         ):\n\u001b[1;32m   5901\u001b[0m             \u001b[0;32mreturn\u001b[0m \u001b[0mself\u001b[0m\u001b[0;34m[\u001b[0m\u001b[0mname\u001b[0m\u001b[0;34m]\u001b[0m\u001b[0;34m\u001b[0m\u001b[0;34m\u001b[0m\u001b[0m\n\u001b[0;32m-> 5902\u001b[0;31m         \u001b[0;32mreturn\u001b[0m \u001b[0mobject\u001b[0m\u001b[0;34m.\u001b[0m\u001b[0m__getattribute__\u001b[0m\u001b[0;34m(\u001b[0m\u001b[0mself\u001b[0m\u001b[0;34m,\u001b[0m \u001b[0mname\u001b[0m\u001b[0;34m)\u001b[0m\u001b[0;34m\u001b[0m\u001b[0;34m\u001b[0m\u001b[0m\n\u001b[0m\u001b[1;32m   5903\u001b[0m \u001b[0;34m\u001b[0m\u001b[0m\n\u001b[1;32m   5904\u001b[0m     \u001b[0;32mdef\u001b[0m \u001b[0m__setattr__\u001b[0m\u001b[0;34m(\u001b[0m\u001b[0mself\u001b[0m\u001b[0;34m,\u001b[0m \u001b[0mname\u001b[0m\u001b[0;34m:\u001b[0m \u001b[0mstr\u001b[0m\u001b[0;34m,\u001b[0m \u001b[0mvalue\u001b[0m\u001b[0;34m)\u001b[0m \u001b[0;34m->\u001b[0m \u001b[0;32mNone\u001b[0m\u001b[0;34m:\u001b[0m\u001b[0;34m\u001b[0m\u001b[0;34m\u001b[0m\u001b[0m\n",
            "\u001b[0;31mAttributeError\u001b[0m: 'DataFrame' object has no attribute 'repartition'"
          ]
        }
      ],
      "source": [
        "import pandas as pd\n",
        "import gc\n",
        "\n",
        "train.repartition(1).write.mode('overwrite').csv('/content/drive/MyDrive/train_df', header='true')\n",
        "\n",
        "train.unpersist()\n",
        "gc.collect()"
      ]
    },
    {
      "cell_type": "code",
      "execution_count": null,
      "metadata": {
        "colab": {
          "base_uri": "https://localhost:8080/"
        },
        "id": "U7bC-wS9C2O8",
        "outputId": "cf0670df-49a4-4d1e-fc5b-76178d1ad54d"
      },
      "outputs": [
        {
          "output_type": "stream",
          "name": "stdout",
          "text": [
            "['srv', 'etc', 'tmp', 'lib32', 'sys', 'lib', 'root', 'opt', 'var', 'media', 'bin', 'dev', 'home', 'run', 'usr', 'libx32', 'sbin', 'boot', 'lib64', 'mnt', 'proc', 'content', 'kaggle', '.dockerenv', 'tools', 'datalab', 'python-apt', 'NGC-DL-CONTAINER-LICENSE']\n",
            "['part-00000-a8cb84bf-877c-4a19-ba59-265c323e40f8-c000.csv', '.part-00000-a8cb84bf-877c-4a19-ba59-265c323e40f8-c000.csv.crc', '_SUCCESS', '._SUCCESS.crc']\n"
          ]
        }
      ],
      "source": [
        "import os\n",
        "print(os.listdir(\"../\"))\n",
        "print(os.listdir(\"../content/drive/MyDrive/train_df\"))"
      ]
    },
    {
      "cell_type": "code",
      "source": [
        "path_t = os.listdir(\"../content/drive/MyDrive/train_df\")\n",
        "trim_t = [x for x in path_t if x.startswith('part')]\n",
        "stringa_t = ''.join(trim_t)\n",
        "train_path = '../content/drive/MyDrive/train_df/'+stringa_t\n",
        "\n",
        "print(train_path)"
      ],
      "metadata": {
        "colab": {
          "base_uri": "https://localhost:8080/"
        },
        "id": "XKxUQMCLIUx9",
        "outputId": "ae83ab1b-1fc9-42da-e268-540f386af48d"
      },
      "execution_count": null,
      "outputs": [
        {
          "output_type": "stream",
          "name": "stdout",
          "text": [
            "../content/drive/MyDrive/train_df/part-00000-a8cb84bf-877c-4a19-ba59-265c323e40f8-c000.csv\n"
          ]
        }
      ]
    },
    {
      "cell_type": "code",
      "source": [
        "# save application\n",
        "application.repartition(1).write.mode('overwrite').csv('/kaggle/working/application', header = 'true')\n",
        "\n",
        "application.unpersist()"
      ],
      "metadata": {
        "colab": {
          "base_uri": "https://localhost:8080/"
        },
        "id": "lW7OC67PIjSi",
        "outputId": "d029f27b-1fdc-4e39-cddc-68f07faf255d"
      },
      "execution_count": null,
      "outputs": [
        {
          "output_type": "execute_result",
          "data": {
            "text/plain": [
              "DataFrame[customer_id: string, article_id: int, age: string, rank: int, product_type_no: int, graphical_appearance_no: int, colour_group_code: int, perceived_colour_value_id: int, department_no: int, index_group_no: int, section_no: int, garment_group_no: int, lw_orders_count: bigint]"
            ]
          },
          "metadata": {},
          "execution_count": 111
        }
      ]
    },
    {
      "cell_type": "code",
      "execution_count": null,
      "metadata": {
        "id": "whKlMZfWF9Xu",
        "colab": {
          "base_uri": "https://localhost:8080/"
        },
        "outputId": "8f134601-9403-4050-e297-9092896fa419"
      },
      "outputs": [
        {
          "output_type": "stream",
          "name": "stdout",
          "text": [
            "train: (1253285, 15)\n"
          ]
        }
      ],
      "source": [
        "import pandas as pd\n",
        "import numpy as np\n",
        "from sklearn.model_selection import train_test_split\n",
        "from lightgbm.sklearn import LGBMRanker\n",
        "\n",
        "train = pd.read_csv(train_path)\n",
        "train.sort_values(['week', 'customer_id'], inplace=True)\n",
        "train.reset_index(drop=True, inplace=True)\n",
        "print('train:', train.shape)"
      ]
    },
    {
      "cell_type": "code",
      "source": [
        "import re\n",
        "#train = train.rename(columns = lambda x:re.sub('[^A-Za-z0-9_]+', '', x))\n",
        "# columns renamed because for some reason one hot encoding creates invalid characters\n",
        "train_cols = list(train.columns)\n",
        "print(train_cols)"
      ],
      "metadata": {
        "colab": {
          "base_uri": "https://localhost:8080/"
        },
        "id": "jCgMSY4XFTm4",
        "outputId": "d89d25f8-7314-4217-b243-bdae37b29881"
      },
      "execution_count": null,
      "outputs": [
        {
          "output_type": "stream",
          "name": "stdout",
          "text": [
            "['customer_id', 'week', 'article_id', 'y', 'age', 'rank', 'product_type_no', 'graphical_appearance_no', 'colour_group_code', 'perceived_colour_value_id', 'department_no', 'index_group_no', 'section_no', 'garment_group_no', 'lw_orders_count']\n"
          ]
        }
      ]
    },
    {
      "cell_type": "code",
      "source": [
        "qids_train = train.groupby(['week', 'customer_id'])['article_id'].count().values\n",
        "\n",
        "X_train = train.drop([\"y\", 'customer_id', 'week'], axis=1)\n",
        "y_train = train[\"y\"]"
      ],
      "metadata": {
        "id": "prnz9Di-FsAK"
      },
      "execution_count": null,
      "outputs": []
    },
    {
      "cell_type": "code",
      "source": [
        "print(qids_train)"
      ],
      "metadata": {
        "colab": {
          "base_uri": "https://localhost:8080/"
        },
        "id": "uL38M4cjK2cg",
        "outputId": "606bfa4b-9391-486e-a759-e7b4fd5fd87d"
      },
      "execution_count": null,
      "outputs": [
        {
          "output_type": "stream",
          "name": "stdout",
          "text": [
            "[13 13 13 ... 16 14 14]\n"
          ]
        }
      ]
    },
    {
      "cell_type": "code",
      "source": [
        "# Number of estimators is recommended as default to 100 by documentation\n",
        "\n",
        "model = LGBMRanker(\n",
        "    objective=\"lambdarank\",\n",
        "    metric=\"ndcg\",\n",
        "    boosting_type=\"dart\",\n",
        "    n_estimators=100,\n",
        "    importance_type='gain',\n",
        "    verbose=10,\n",
        "    random_state = 17\n",
        ")\n",
        "\n",
        "model.fit(\n",
        "    X=X_train,\n",
        "    y=y_train,\n",
        "    group=qids_train,\n",
        ")"
      ],
      "metadata": {
        "colab": {
          "base_uri": "https://localhost:8080/",
          "height": 1000
        },
        "id": "eCWed8gZK5El",
        "outputId": "299d5bc5-72f4-421e-f5af-3a1f9766e1a6"
      },
      "execution_count": null,
      "outputs": [
        {
          "output_type": "stream",
          "name": "stdout",
          "text": [
            "[LightGBM] [Debug] Dataset::GetMultiBinFromSparseFeatures: sparse rate 0.838167\n",
            "[LightGBM] [Debug] Dataset::GetMultiBinFromAllFeatures: sparse rate 0.193689\n",
            "[LightGBM] [Debug] init for col-wise cost 0.029106 seconds, init for row-wise cost 0.065399 seconds\n",
            "[LightGBM] [Warning] Auto-choosing row-wise multi-threading, the overhead of testing was 0.053298 seconds.\n",
            "You can set `force_row_wise=true` to remove the overhead.\n",
            "And if memory is not enough, you can set `force_col_wise=true`.\n",
            "[LightGBM] [Debug] Using Dense Multi-Val Bin\n",
            "[LightGBM] [Info] Total Bins 801\n",
            "[LightGBM] [Info] Number of data points in the train set: 1253285, number of used features: 12\n",
            "[LightGBM] [Debug] Trained a tree with leaves = 31 and depth = 13\n",
            "[LightGBM] [Debug] Trained a tree with leaves = 31 and depth = 11\n",
            "[LightGBM] [Debug] Trained a tree with leaves = 31 and depth = 11\n",
            "[LightGBM] [Debug] Trained a tree with leaves = 31 and depth = 12\n",
            "[LightGBM] [Debug] Trained a tree with leaves = 31 and depth = 10\n",
            "[LightGBM] [Debug] Trained a tree with leaves = 31 and depth = 14\n",
            "[LightGBM] [Debug] Trained a tree with leaves = 31 and depth = 12\n",
            "[LightGBM] [Debug] Trained a tree with leaves = 31 and depth = 13\n",
            "[LightGBM] [Debug] Trained a tree with leaves = 31 and depth = 12\n",
            "[LightGBM] [Debug] Trained a tree with leaves = 31 and depth = 13\n",
            "[LightGBM] [Debug] Trained a tree with leaves = 31 and depth = 13\n",
            "[LightGBM] [Debug] Trained a tree with leaves = 31 and depth = 11\n",
            "[LightGBM] [Debug] Trained a tree with leaves = 31 and depth = 12\n",
            "[LightGBM] [Debug] Trained a tree with leaves = 31 and depth = 12\n",
            "[LightGBM] [Debug] Trained a tree with leaves = 31 and depth = 14\n",
            "[LightGBM] [Debug] Trained a tree with leaves = 31 and depth = 12\n",
            "[LightGBM] [Debug] Trained a tree with leaves = 31 and depth = 13\n",
            "[LightGBM] [Debug] Trained a tree with leaves = 31 and depth = 11\n",
            "[LightGBM] [Debug] Trained a tree with leaves = 31 and depth = 17\n",
            "[LightGBM] [Debug] Trained a tree with leaves = 31 and depth = 13\n",
            "[LightGBM] [Debug] Trained a tree with leaves = 31 and depth = 16\n",
            "[LightGBM] [Debug] Trained a tree with leaves = 31 and depth = 14\n",
            "[LightGBM] [Debug] Trained a tree with leaves = 31 and depth = 15\n",
            "[LightGBM] [Debug] Trained a tree with leaves = 31 and depth = 14\n",
            "[LightGBM] [Debug] Trained a tree with leaves = 31 and depth = 16\n",
            "[LightGBM] [Debug] Trained a tree with leaves = 31 and depth = 13\n",
            "[LightGBM] [Debug] Trained a tree with leaves = 31 and depth = 12\n",
            "[LightGBM] [Debug] Trained a tree with leaves = 31 and depth = 13\n",
            "[LightGBM] [Debug] Trained a tree with leaves = 31 and depth = 12\n",
            "[LightGBM] [Debug] Trained a tree with leaves = 31 and depth = 10\n",
            "[LightGBM] [Debug] Trained a tree with leaves = 31 and depth = 12\n",
            "[LightGBM] [Debug] Trained a tree with leaves = 31 and depth = 12\n",
            "[LightGBM] [Debug] Trained a tree with leaves = 31 and depth = 13\n",
            "[LightGBM] [Debug] Trained a tree with leaves = 31 and depth = 13\n",
            "[LightGBM] [Debug] Trained a tree with leaves = 31 and depth = 13\n",
            "[LightGBM] [Debug] Trained a tree with leaves = 31 and depth = 15\n",
            "[LightGBM] [Debug] Trained a tree with leaves = 31 and depth = 21\n",
            "[LightGBM] [Debug] Trained a tree with leaves = 31 and depth = 11\n",
            "[LightGBM] [Debug] Trained a tree with leaves = 31 and depth = 13\n",
            "[LightGBM] [Debug] Trained a tree with leaves = 31 and depth = 14\n",
            "[LightGBM] [Debug] Trained a tree with leaves = 31 and depth = 15\n",
            "[LightGBM] [Debug] Trained a tree with leaves = 31 and depth = 19\n",
            "[LightGBM] [Debug] Trained a tree with leaves = 31 and depth = 14\n",
            "[LightGBM] [Debug] Trained a tree with leaves = 31 and depth = 13\n",
            "[LightGBM] [Debug] Trained a tree with leaves = 31 and depth = 11\n",
            "[LightGBM] [Debug] Trained a tree with leaves = 31 and depth = 15\n",
            "[LightGBM] [Debug] Trained a tree with leaves = 31 and depth = 12\n",
            "[LightGBM] [Debug] Trained a tree with leaves = 31 and depth = 13\n",
            "[LightGBM] [Debug] Trained a tree with leaves = 31 and depth = 13\n",
            "[LightGBM] [Debug] Trained a tree with leaves = 31 and depth = 12\n",
            "[LightGBM] [Debug] Trained a tree with leaves = 31 and depth = 13\n",
            "[LightGBM] [Debug] Trained a tree with leaves = 31 and depth = 14\n",
            "[LightGBM] [Debug] Trained a tree with leaves = 31 and depth = 16\n",
            "[LightGBM] [Debug] Trained a tree with leaves = 31 and depth = 14\n",
            "[LightGBM] [Debug] Trained a tree with leaves = 31 and depth = 12\n",
            "[LightGBM] [Debug] Trained a tree with leaves = 31 and depth = 13\n",
            "[LightGBM] [Debug] Trained a tree with leaves = 31 and depth = 11\n",
            "[LightGBM] [Debug] Trained a tree with leaves = 31 and depth = 12\n",
            "[LightGBM] [Debug] Trained a tree with leaves = 31 and depth = 14\n",
            "[LightGBM] [Debug] Trained a tree with leaves = 31 and depth = 19\n",
            "[LightGBM] [Debug] Trained a tree with leaves = 31 and depth = 14\n",
            "[LightGBM] [Debug] Trained a tree with leaves = 31 and depth = 12\n",
            "[LightGBM] [Debug] Trained a tree with leaves = 31 and depth = 14\n",
            "[LightGBM] [Debug] Trained a tree with leaves = 31 and depth = 11\n",
            "[LightGBM] [Debug] Trained a tree with leaves = 31 and depth = 15\n",
            "[LightGBM] [Debug] Trained a tree with leaves = 31 and depth = 13\n",
            "[LightGBM] [Debug] Trained a tree with leaves = 31 and depth = 16\n",
            "[LightGBM] [Debug] Trained a tree with leaves = 31 and depth = 12\n",
            "[LightGBM] [Debug] Trained a tree with leaves = 31 and depth = 15\n",
            "[LightGBM] [Debug] Trained a tree with leaves = 31 and depth = 13\n",
            "[LightGBM] [Debug] Trained a tree with leaves = 31 and depth = 12\n",
            "[LightGBM] [Debug] Trained a tree with leaves = 31 and depth = 12\n",
            "[LightGBM] [Debug] Trained a tree with leaves = 31 and depth = 12\n",
            "[LightGBM] [Debug] Trained a tree with leaves = 31 and depth = 16\n",
            "[LightGBM] [Debug] Trained a tree with leaves = 31 and depth = 11\n",
            "[LightGBM] [Debug] Trained a tree with leaves = 31 and depth = 14\n",
            "[LightGBM] [Debug] Trained a tree with leaves = 31 and depth = 11\n",
            "[LightGBM] [Debug] Trained a tree with leaves = 31 and depth = 13\n",
            "[LightGBM] [Debug] Trained a tree with leaves = 31 and depth = 11\n",
            "[LightGBM] [Debug] Trained a tree with leaves = 31 and depth = 11\n",
            "[LightGBM] [Debug] Trained a tree with leaves = 31 and depth = 11\n",
            "[LightGBM] [Debug] Trained a tree with leaves = 31 and depth = 14\n",
            "[LightGBM] [Debug] Trained a tree with leaves = 31 and depth = 15\n",
            "[LightGBM] [Debug] Trained a tree with leaves = 31 and depth = 12\n",
            "[LightGBM] [Debug] Trained a tree with leaves = 31 and depth = 14\n",
            "[LightGBM] [Debug] Trained a tree with leaves = 31 and depth = 11\n",
            "[LightGBM] [Debug] Trained a tree with leaves = 31 and depth = 15\n",
            "[LightGBM] [Debug] Trained a tree with leaves = 31 and depth = 10\n",
            "[LightGBM] [Debug] Trained a tree with leaves = 31 and depth = 12\n",
            "[LightGBM] [Debug] Trained a tree with leaves = 31 and depth = 12\n",
            "[LightGBM] [Debug] Trained a tree with leaves = 31 and depth = 21\n",
            "[LightGBM] [Debug] Trained a tree with leaves = 31 and depth = 16\n",
            "[LightGBM] [Debug] Trained a tree with leaves = 31 and depth = 15\n",
            "[LightGBM] [Debug] Trained a tree with leaves = 31 and depth = 15\n",
            "[LightGBM] [Debug] Trained a tree with leaves = 31 and depth = 13\n",
            "[LightGBM] [Debug] Trained a tree with leaves = 31 and depth = 19\n",
            "[LightGBM] [Debug] Trained a tree with leaves = 31 and depth = 11\n",
            "[LightGBM] [Debug] Trained a tree with leaves = 31 and depth = 17\n",
            "[LightGBM] [Debug] Trained a tree with leaves = 31 and depth = 14\n",
            "[LightGBM] [Debug] Trained a tree with leaves = 31 and depth = 14\n"
          ]
        },
        {
          "output_type": "execute_result",
          "data": {
            "text/plain": [
              "LGBMRanker(boosting_type='dart', importance_type='gain', metric='ndcg',\n",
              "           objective='lambdarank', random_state=17, verbose=10)"
            ],
            "text/html": [
              "<style>#sk-container-id-2 {color: black;background-color: white;}#sk-container-id-2 pre{padding: 0;}#sk-container-id-2 div.sk-toggleable {background-color: white;}#sk-container-id-2 label.sk-toggleable__label {cursor: pointer;display: block;width: 100%;margin-bottom: 0;padding: 0.3em;box-sizing: border-box;text-align: center;}#sk-container-id-2 label.sk-toggleable__label-arrow:before {content: \"▸\";float: left;margin-right: 0.25em;color: #696969;}#sk-container-id-2 label.sk-toggleable__label-arrow:hover:before {color: black;}#sk-container-id-2 div.sk-estimator:hover label.sk-toggleable__label-arrow:before {color: black;}#sk-container-id-2 div.sk-toggleable__content {max-height: 0;max-width: 0;overflow: hidden;text-align: left;background-color: #f0f8ff;}#sk-container-id-2 div.sk-toggleable__content pre {margin: 0.2em;color: black;border-radius: 0.25em;background-color: #f0f8ff;}#sk-container-id-2 input.sk-toggleable__control:checked~div.sk-toggleable__content {max-height: 200px;max-width: 100%;overflow: auto;}#sk-container-id-2 input.sk-toggleable__control:checked~label.sk-toggleable__label-arrow:before {content: \"▾\";}#sk-container-id-2 div.sk-estimator input.sk-toggleable__control:checked~label.sk-toggleable__label {background-color: #d4ebff;}#sk-container-id-2 div.sk-label input.sk-toggleable__control:checked~label.sk-toggleable__label {background-color: #d4ebff;}#sk-container-id-2 input.sk-hidden--visually {border: 0;clip: rect(1px 1px 1px 1px);clip: rect(1px, 1px, 1px, 1px);height: 1px;margin: -1px;overflow: hidden;padding: 0;position: absolute;width: 1px;}#sk-container-id-2 div.sk-estimator {font-family: monospace;background-color: #f0f8ff;border: 1px dotted black;border-radius: 0.25em;box-sizing: border-box;margin-bottom: 0.5em;}#sk-container-id-2 div.sk-estimator:hover {background-color: #d4ebff;}#sk-container-id-2 div.sk-parallel-item::after {content: \"\";width: 100%;border-bottom: 1px solid gray;flex-grow: 1;}#sk-container-id-2 div.sk-label:hover label.sk-toggleable__label {background-color: #d4ebff;}#sk-container-id-2 div.sk-serial::before {content: \"\";position: absolute;border-left: 1px solid gray;box-sizing: border-box;top: 0;bottom: 0;left: 50%;z-index: 0;}#sk-container-id-2 div.sk-serial {display: flex;flex-direction: column;align-items: center;background-color: white;padding-right: 0.2em;padding-left: 0.2em;position: relative;}#sk-container-id-2 div.sk-item {position: relative;z-index: 1;}#sk-container-id-2 div.sk-parallel {display: flex;align-items: stretch;justify-content: center;background-color: white;position: relative;}#sk-container-id-2 div.sk-item::before, #sk-container-id-2 div.sk-parallel-item::before {content: \"\";position: absolute;border-left: 1px solid gray;box-sizing: border-box;top: 0;bottom: 0;left: 50%;z-index: -1;}#sk-container-id-2 div.sk-parallel-item {display: flex;flex-direction: column;z-index: 1;position: relative;background-color: white;}#sk-container-id-2 div.sk-parallel-item:first-child::after {align-self: flex-end;width: 50%;}#sk-container-id-2 div.sk-parallel-item:last-child::after {align-self: flex-start;width: 50%;}#sk-container-id-2 div.sk-parallel-item:only-child::after {width: 0;}#sk-container-id-2 div.sk-dashed-wrapped {border: 1px dashed gray;margin: 0 0.4em 0.5em 0.4em;box-sizing: border-box;padding-bottom: 0.4em;background-color: white;}#sk-container-id-2 div.sk-label label {font-family: monospace;font-weight: bold;display: inline-block;line-height: 1.2em;}#sk-container-id-2 div.sk-label-container {text-align: center;}#sk-container-id-2 div.sk-container {/* jupyter's `normalize.less` sets `[hidden] { display: none; }` but bootstrap.min.css set `[hidden] { display: none !important; }` so we also need the `!important` here to be able to override the default hidden behavior on the sphinx rendered scikit-learn.org. See: https://github.com/scikit-learn/scikit-learn/issues/21755 */display: inline-block !important;position: relative;}#sk-container-id-2 div.sk-text-repr-fallback {display: none;}</style><div id=\"sk-container-id-2\" class=\"sk-top-container\"><div class=\"sk-text-repr-fallback\"><pre>LGBMRanker(boosting_type=&#x27;dart&#x27;, importance_type=&#x27;gain&#x27;, metric=&#x27;ndcg&#x27;,\n",
              "           objective=&#x27;lambdarank&#x27;, random_state=17, verbose=10)</pre><b>In a Jupyter environment, please rerun this cell to show the HTML representation or trust the notebook. <br />On GitHub, the HTML representation is unable to render, please try loading this page with nbviewer.org.</b></div><div class=\"sk-container\" hidden><div class=\"sk-item\"><div class=\"sk-estimator sk-toggleable\"><input class=\"sk-toggleable__control sk-hidden--visually\" id=\"sk-estimator-id-2\" type=\"checkbox\" checked><label for=\"sk-estimator-id-2\" class=\"sk-toggleable__label sk-toggleable__label-arrow\">LGBMRanker</label><div class=\"sk-toggleable__content\"><pre>LGBMRanker(boosting_type=&#x27;dart&#x27;, importance_type=&#x27;gain&#x27;, metric=&#x27;ndcg&#x27;,\n",
              "           objective=&#x27;lambdarank&#x27;, random_state=17, verbose=10)</pre></div></div></div></div></div>"
            ]
          },
          "metadata": {},
          "execution_count": 179
        }
      ]
    },
    {
      "cell_type": "code",
      "source": [
        "# feature importance\n",
        "x_train_cols = list(X_train.columns)\n",
        "\n",
        "for i in model.feature_importances_.argsort()[::-1]:\n",
        "    print(x_train_cols[i], model.feature_importances_[i]/model.feature_importances_.sum())"
      ],
      "metadata": {
        "colab": {
          "base_uri": "https://localhost:8080/"
        },
        "id": "dLo0LrBXK9nd",
        "outputId": "b494c943-7444-4242-ced6-8da863c4fd3b"
      },
      "execution_count": null,
      "outputs": [
        {
          "output_type": "stream",
          "name": "stdout",
          "text": [
            "article_id 0.3301881198516759\n",
            "colour_group_code 0.1361823064649362\n",
            "product_type_no 0.10634664850527847\n",
            "rank 0.09763897836406964\n",
            "department_no 0.09312807449733615\n",
            "section_no 0.07119598531903487\n",
            "graphical_appearance_no 0.06994892415256618\n",
            "perceived_colour_value_id 0.04385866849600829\n",
            "garment_group_no 0.040567734999677495\n",
            "index_group_no 0.01094455934941682\n",
            "lw_orders_count 0.0\n",
            "age 0.0\n"
          ]
        }
      ]
    },
    {
      "cell_type": "code",
      "source": [
        "import numpy as np\n",
        "\n",
        "unique_qids_train, counts = np.unique(qids_train[np.isin(qids_train, np.unique(qids_train))], return_counts=True)\n",
        "print(f\"Number of unique queries in training set: {len(unique_qids_train)}\")\n"
      ],
      "metadata": {
        "colab": {
          "base_uri": "https://localhost:8080/"
        },
        "id": "0nxFkHkuXcNM",
        "outputId": "80ac2a31-70b6-41a9-efa4-d8ad8827b424"
      },
      "execution_count": null,
      "outputs": [
        {
          "output_type": "stream",
          "name": "stdout",
          "text": [
            "Number of unique queries in training set: 14\n"
          ]
        }
      ]
    },
    {
      "cell_type": "code",
      "source": [
        "unique_qids_train = np.unique(qids_train)\n",
        "mask = np.isin(qids_train, unique_qids_train)\n",
        "mask = np.repeat(mask, 5)\n",
        "y_train_filtered = y_train\n",
        "qids_train_filtered = qids_train\n"
      ],
      "metadata": {
        "id": "eFfFbhgNX4pu"
      },
      "execution_count": null,
      "outputs": []
    },
    {
      "cell_type": "code",
      "source": [
        "print(os.listdir(\"../\"))\n",
        "print(os.listdir(\"../content/drive/MyDrive/application\"))"
      ],
      "metadata": {
        "colab": {
          "base_uri": "https://localhost:8080/"
        },
        "id": "iZTdT9zbLREg",
        "outputId": "c8782e09-323a-4c40-fafd-a6d2ab371650"
      },
      "execution_count": null,
      "outputs": [
        {
          "output_type": "stream",
          "name": "stdout",
          "text": [
            "['srv', 'etc', 'tmp', 'lib32', 'sys', 'lib', 'root', 'opt', 'var', 'media', 'bin', 'dev', 'home', 'run', 'usr', 'libx32', 'sbin', 'boot', 'lib64', 'mnt', 'proc', 'content', 'kaggle', '.dockerenv', 'tools', 'datalab', 'python-apt', 'NGC-DL-CONTAINER-LICENSE']\n",
            "['._SUCCESS.crc', '_SUCCESS', 'part-00000-00bea898-439d-41c9-898b-c349e604e162-c000.csv', 'untitled', 'SSSS']\n"
          ]
        }
      ]
    },
    {
      "cell_type": "code",
      "source": [
        "path = os.listdir(\"../content/drive/MyDrive/application\")\n",
        "trim = [x for x in path if x.startswith('part')]\n",
        "stringa = ''.join(trim)\n",
        "app_path = '../content/drive/MyDrive/application/'+stringa\n",
        "\n",
        "print(app_path)"
      ],
      "metadata": {
        "colab": {
          "base_uri": "https://localhost:8080/"
        },
        "id": "A6eFmhuuLUgI",
        "outputId": "4b545ba1-1241-486d-984e-fd8d27836d95"
      },
      "execution_count": null,
      "outputs": [
        {
          "output_type": "stream",
          "name": "stdout",
          "text": [
            "../content/drive/MyDrive/application/part-00000-00bea898-439d-41c9-898b-c349e604e162-c000.csv\n"
          ]
        }
      ]
    },
    {
      "cell_type": "code",
      "source": [
        "application = pd.read_csv(app_path)\n",
        "application.sort_values('customer_id', inplace=True)\n",
        "application.reset_index(drop=True, inplace=True)\n",
        "\n",
        "application_x = application.drop('customer_id', axis = 1)\n",
        "print('application_x:', application_x.shape)\n",
        "app_cols = list(application_x.columns)\n",
        "print(app_cols)"
      ],
      "metadata": {
        "id": "9XtVHoyJLpFC",
        "colab": {
          "base_uri": "https://localhost:8080/"
        },
        "outputId": "f9a72a72-457c-4422-cfd4-228576fc8e62"
      },
      "execution_count": null,
      "outputs": [
        {
          "output_type": "stream",
          "name": "stdout",
          "text": [
            "application_x: (17742686, 12)\n",
            "['article_id', 'age', 'rank', 'product_type_no', 'graphical_appearance_no', 'colour_group_code', 'perceived_colour_value_id', 'department_no', 'index_group_no', 'section_no', 'garment_group_no', 'lw_orders_count']\n"
          ]
        }
      ]
    },
    {
      "cell_type": "code",
      "source": [
        "application['prediction'] = model.predict(application_x)"
      ],
      "metadata": {
        "id": "58obnTMQLtCu"
      },
      "execution_count": null,
      "outputs": []
    },
    {
      "cell_type": "code",
      "source": [
        "pred_dict = application \\\n",
        "    .sort_values(['customer_id', 'prediction'], ascending=False) \\\n",
        "    .groupby('customer_id')['article_id'].apply(list).to_dict()"
      ],
      "metadata": {
        "id": "-evxcjnrePOM"
      },
      "execution_count": null,
      "outputs": []
    },
    {
      "cell_type": "code",
      "source": [
        "sub = pd.read_csv('/content/drive/MyDrive/sample_submission.csv')"
      ],
      "metadata": {
        "id": "IygmEQzYfLms"
      },
      "execution_count": null,
      "outputs": []
    },
    {
      "cell_type": "code",
      "source": [
        "preds = []\n",
        "for c_id in sub.customer_id:\n",
        "    pred = pred_dict.get(c_id, [])\n",
        "    pred = pred + top_12_lw\n",
        "    preds.append(pred[:12])\n",
        "    "
      ],
      "metadata": {
        "id": "W42a5xaOfqF5"
      },
      "execution_count": null,
      "outputs": []
    },
    {
      "cell_type": "code",
      "source": [
        "preds = [' '.join(['0' + str(p) for p in ps]) for ps in preds]\n",
        "sub.prediction = preds"
      ],
      "metadata": {
        "id": "Y0H1a3h8fuHf"
      },
      "execution_count": null,
      "outputs": []
    },
    {
      "cell_type": "code",
      "source": [
        "sub_name = 'submission'\n",
        "sub.to_csv(f'{sub_name}.csv', index=False)"
      ],
      "metadata": {
        "id": "EeRfHnzQfxqy"
      },
      "execution_count": null,
      "outputs": []
    },
    {
      "cell_type": "code",
      "source": [],
      "metadata": {
        "id": "jCKIVJ6ef1G9"
      },
      "execution_count": null,
      "outputs": []
    }
  ],
  "metadata": {
    "colab": {
      "machine_shape": "hm",
      "provenance": []
    },
    "gpuClass": "standard",
    "kernelspec": {
      "display_name": "Python 3",
      "name": "python3"
    },
    "language_info": {
      "name": "python"
    }
  },
  "nbformat": 4,
  "nbformat_minor": 0
}